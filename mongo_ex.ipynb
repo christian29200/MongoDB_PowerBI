{
 "cells": [
  {
   "cell_type": "markdown",
   "id": "4aea20c5",
   "metadata": {},
   "source": [
    "### Vérifier le nombre de documents importés."
   ]
  },
  {
   "cell_type": "code",
   "execution_count": null,
   "id": "df626070",
   "metadata": {},
   "outputs": [],
   "source": [
    "db.publis.count_documents({})"
   ]
  },
  {
   "cell_type": "markdown",
   "id": "95302671",
   "metadata": {},
   "source": [
    "### Prévisualiser les 20 premiers documents.\n"
   ]
  },
  {
   "cell_type": "code",
   "execution_count": null,
   "id": "109d518c",
   "metadata": {},
   "outputs": [],
   "source": [
    "db.publis.find({}).limit(20)"
   ]
  },
  {
   "cell_type": "markdown",
   "id": "8978986e",
   "metadata": {},
   "source": [
    "### Lister tous les livres (type 'Book')."
   ]
  },
  {
   "cell_type": "code",
   "execution_count": null,
   "id": "73ec1696",
   "metadata": {},
   "outputs": [],
   "source": [
    "db.publis.find({\"type\" : \"Book\"}, {\"_id\" : 0})"
   ]
  },
  {
   "cell_type": "markdown",
   "id": "8d8fefbf",
   "metadata": {},
   "source": [
    "### Lister les publications depuis 2011."
   ]
  },
  {
   "cell_type": "code",
   "execution_count": null,
   "id": "00830510",
   "metadata": {},
   "outputs": [],
   "source": [
    "db.publis.find({\"year\" : {\"$gte\" : 2011}}, {\"_id\" : 0})"
   ]
  },
  {
   "cell_type": "markdown",
   "id": "cefa8c95",
   "metadata": {},
   "source": [
    "### Lister toutes les publications de 2011 et 2013."
   ]
  },
  {
   "cell_type": "code",
   "execution_count": null,
   "id": "b7347c3a",
   "metadata": {},
   "outputs": [],
   "source": [
    "db.publis.find({\"$and\" : [{\"year\" : [{\"$gt\" : 2011}, {\"$lt\" : 2013} ] }]})"
   ]
  },
  {
   "cell_type": "markdown",
   "id": "a0cc2441",
   "metadata": {},
   "source": [
    "### Lister toutes les publications de 2011 ou 2013."
   ]
  },
  {
   "cell_type": "code",
   "execution_count": null,
   "id": "1abbb53c",
   "metadata": {},
   "outputs": [],
   "source": [
    "db.publis.find({\"$or\" : [{\"year\" : [{\"$gt\" : 2011}, {\"$lt\" : 2013} ] }]})"
   ]
  },
  {
   "cell_type": "markdown",
   "id": "46ed4fa1",
   "metadata": {},
   "source": [
    "### Lister les publications ayant 3 auteurs."
   ]
  },
  {
   "cell_type": "code",
   "execution_count": null,
   "id": "a305cf9a",
   "metadata": {},
   "outputs": [],
   "source": [
    "db.publis.find({ \"authors\": { \"$size\": 3 }})"
   ]
  },
  {
   "cell_type": "markdown",
   "id": "cb9ce301",
   "metadata": {},
   "source": [
    "### Lister les livres publiés depuis 2014."
   ]
  },
  {
   "cell_type": "code",
   "execution_count": null,
   "id": "1996338e",
   "metadata": {},
   "outputs": [],
   "source": [
    "db.publis.find({\"year\" : {\"$gte\" : 2014}}, {\"_id\" : 0})"
   ]
  },
  {
   "cell_type": "markdown",
   "id": "dd42489b",
   "metadata": {},
   "source": [
    "### Lister les publications de l'auteur \"Toru Ishida\"."
   ]
  },
  {
   "cell_type": "code",
   "execution_count": null,
   "id": "de40ff6d",
   "metadata": {},
   "outputs": [],
   "source": [
    "db.publis.find({\"authors\": \"Tour Ishida\"}, {\"_id\" : 0})"
   ]
  },
  {
   "cell_type": "markdown",
   "id": "aedfd7a3",
   "metadata": {},
   "source": [
    "### Lister tous les éditeurs (type 'publisher') distincts."
   ]
  },
  {
   "cell_type": "code",
   "execution_count": null,
   "id": "c5389e7e",
   "metadata": {},
   "outputs": [],
   "source": [
    "db.publis.publis.distinct({\"authors\"})"
   ]
  },
  {
   "cell_type": "markdown",
   "id": "6b9519b7",
   "metadata": {},
   "source": [
    "### Lister tous les auteurs distincts."
   ]
  },
  {
   "cell_type": "code",
   "execution_count": null,
   "id": "4b237197",
   "metadata": {},
   "outputs": [],
   "source": [
    "db.publis.publis.distinct({\"authors\"})"
   ]
  },
  {
   "cell_type": "markdown",
   "id": "c52c1c07",
   "metadata": {},
   "source": [
    "### Trier les publications de 'Toru Ishida' par titre de livre et par page de début.\n"
   ]
  },
  {
   "cell_type": "code",
   "execution_count": null,
   "id": "e03c5bf4",
   "metadata": {},
   "outputs": [],
   "source": [
    "db.publis.find({\"$query\": {\"authors\": \"Toru Ishida\"}, $orderby: {\"title\": 1}},{\"_id\" : 0})"
   ]
  },
  {
   "cell_type": "markdown",
   "id": "6e867533",
   "metadata": {},
   "source": [
    "### Compter le nombre de ses publications."
   ]
  },
  {
   "cell_type": "code",
   "execution_count": null,
   "id": "4c7030e2",
   "metadata": {},
   "outputs": [],
   "source": [
    "db.publis.count_documents({\"authors\":\"Toru Ishida\"})"
   ]
  },
  {
   "cell_type": "markdown",
   "id": "dd14a6f9",
   "metadata": {},
   "source": [
    "### Compter le nombre de publications depuis 2011 et par type."
   ]
  },
  {
   "cell_type": "code",
   "execution_count": null,
   "id": "88081ba4",
   "metadata": {},
   "outputs": [],
   "source": [
    "db.publis.find({\"year\":{\"$gte\":2011}})"
   ]
  },
  {
   "cell_type": "markdown",
   "id": "dbb26675",
   "metadata": {},
   "source": [
    "### Compter le nombre de publications par auteur et trier le résultat par ordre croissant."
   ]
  },
  {
   "cell_type": "code",
   "execution_count": null,
   "id": "31fb6831",
   "metadata": {},
   "outputs": [],
   "source": [
    "db.publis.aggregate([{ \"$unwind\" : \"$authors\" },\n",
    "                      {\"$group\": { \"_id\" : \"$authors\", \"total\": { \"$sum\": 1 } } },\n",
    "                      {\"$sort\": {\"total\":1} }\n",
    "                      ])\n"
   ]
  }
 ],
 "metadata": {
  "kernelspec": {
   "display_name": "Python 3 (ipykernel)",
   "language": "python",
   "name": "python3"
  },
  "language_info": {
   "codemirror_mode": {
    "name": "ipython",
    "version": 3
   },
   "file_extension": ".py",
   "mimetype": "text/x-python",
   "name": "python",
   "nbconvert_exporter": "python",
   "pygments_lexer": "ipython3",
   "version": "3.8.2"
  }
 },
 "nbformat": 4,
 "nbformat_minor": 5
}

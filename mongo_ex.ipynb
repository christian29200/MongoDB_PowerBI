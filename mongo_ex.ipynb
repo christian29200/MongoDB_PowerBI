{
 "cells": [
  {
   "cell_type": "markdown",
   "id": "ef8cae8a",
   "metadata": {},
   "source": [
    "### Vérifier le nombre de documents importés."
   ]
  },
  {
   "cell_type": "code",
   "execution_count": null,
   "id": "0d26be6a",
   "metadata": {},
   "outputs": [],
   "source": [
    "db.publis.count_documents({})"
   ]
  },
  {
   "cell_type": "markdown",
   "id": "d4aa3026",
   "metadata": {},
   "source": [
    "### Prévisualiser les 20 premiers documents.\n"
   ]
  },
  {
   "cell_type": "code",
   "execution_count": null,
   "id": "73aaa1c0",
   "metadata": {},
   "outputs": [],
   "source": [
    "db.publis.find({}).limit(20)"
   ]
  },
  {
   "cell_type": "markdown",
   "id": "2a5b5071",
   "metadata": {},
   "source": [
    "### Lister tous les livres (type 'Book')."
   ]
  },
  {
   "cell_type": "code",
   "execution_count": null,
   "id": "746e8455",
   "metadata": {},
   "outputs": [],
   "source": [
    "db.publis.find({\"type\" : \"Book\"}, {\"_id\" : 0})"
   ]
  },
  {
   "cell_type": "markdown",
   "id": "091e6c8e",
   "metadata": {},
   "source": [
    "### Lister les publications depuis 2011."
   ]
  },
  {
   "cell_type": "code",
   "execution_count": null,
   "id": "8886cfdd",
   "metadata": {},
   "outputs": [],
   "source": [
    "db.publis.find({\"year\" : {\"$gte\" : 2011}}, {\"_id\" : 0})"
   ]
  },
  {
   "cell_type": "markdown",
   "id": "0c2fa019",
   "metadata": {},
   "source": [
    "### Lister toutes les publications de 2011 et 2013."
   ]
  },
  {
   "cell_type": "code",
   "execution_count": null,
   "id": "1d64fe3b",
   "metadata": {},
   "outputs": [],
   "source": [
    "db.publis.find({“Year” : {“$and” : [{\"$gt\" : 2011}, {“$lt” : 2013} ] }})"
   ]
  },
  {
   "cell_type": "markdown",
   "id": "f37bc573",
   "metadata": {},
   "source": [
    "### Lister toutes les publications de 2011 ou 2013."
   ]
  },
  {
   "cell_type": "code",
   "execution_count": null,
   "id": "a49072fb",
   "metadata": {},
   "outputs": [],
   "source": [
    "db.publis.find({“Year” : {“$or” : [{\"$gt\" : 2011}, {“$lt” : 2013} ] }})"
   ]
  },
  {
   "cell_type": "markdown",
   "id": "88bbd521",
   "metadata": {},
   "source": [
    "### Lister les publications ayant 3 auteurs."
   ]
  },
  {
   "cell_type": "code",
   "execution_count": null,
   "id": "d580aa91",
   "metadata": {},
   "outputs": [],
   "source": [
    "db.publis.find({ authors: { $size: 3 }})"
   ]
  },
  {
   "cell_type": "markdown",
   "id": "b540c3ba",
   "metadata": {},
   "source": [
    "### Lister les livres publiés depuis 2014."
   ]
  },
  {
   "cell_type": "code",
   "execution_count": null,
   "id": "5f2bddd3",
   "metadata": {},
   "outputs": [],
   "source": [
    "db.publis.find({\"year\" : {\"$gte\" : 2014}}, {\"_id\" : 0})"
   ]
  },
  {
   "cell_type": "markdown",
   "id": "7d9bbb5f",
   "metadata": {},
   "source": [
    "### Lister les publications de l'auteur \"Toru Ishida\"."
   ]
  },
  {
   "cell_type": "code",
   "execution_count": null,
   "id": "35001047",
   "metadata": {},
   "outputs": [],
   "source": [
    "db.publis.find({\"authors\": “Tour Ishida”}, {\"_id\" : 0})"
   ]
  },
  {
   "cell_type": "markdown",
   "id": "d9ab897a",
   "metadata": {},
   "source": [
    "### Lister tous les éditeurs (type 'publisher') distincts."
   ]
  },
  {
   "cell_type": "code",
   "execution_count": null,
   "id": "b4d06455",
   "metadata": {},
   "outputs": [],
   "source": [
    "db.publis.publis.distinct({“authors”})"
   ]
  },
  {
   "cell_type": "markdown",
   "id": "8f6a526a",
   "metadata": {},
   "source": [
    "### Lister tous les auteurs distincts."
   ]
  },
  {
   "cell_type": "code",
   "execution_count": null,
   "id": "3c8fe69a",
   "metadata": {},
   "outputs": [],
   "source": [
    "db.publis.publis.distinct({“authors”})"
   ]
  },
  {
   "cell_type": "markdown",
   "id": "a097da00",
   "metadata": {},
   "source": [
    "### Trier les publications de 'Toru Ishida' par titre de livre et par page de début.\n"
   ]
  },
  {
   "cell_type": "code",
   "execution_count": null,
   "id": "bfaf0b3c",
   "metadata": {},
   "outputs": [],
   "source": [
    "db.publis.find({\"$query\": {\"authors\": auteur}, \"$orderby\": {\"title\": 1}},{\"_id\" : 0})"
   ]
  },
  {
   "cell_type": "markdown",
   "id": "4c15718b",
   "metadata": {},
   "source": [
    "### Compter le nombre de ses publications."
   ]
  },
  {
   "cell_type": "code",
   "execution_count": null,
   "id": "35003a59",
   "metadata": {},
   "outputs": [],
   "source": [
    "db.publis.count_documents({\"authors\":auteur})"
   ]
  },
  {
   "cell_type": "markdown",
   "id": "2e55576b",
   "metadata": {},
   "source": [
    "### Compter le nombre de publications depuis 2011 et par type."
   ]
  },
  {
   "cell_type": "code",
   "execution_count": null,
   "id": "61e92b16",
   "metadata": {},
   "outputs": [],
   "source": [
    "db.publis.find({\"year\":{\"$gte\":annee}})"
   ]
  },
  {
   "cell_type": "markdown",
   "id": "a97e685b",
   "metadata": {},
   "source": [
    "### Compter le nombre de publications par auteur et trier le résultat par ordre croissant."
   ]
  },
  {
   "cell_type": "code",
   "execution_count": null,
   "id": "82d6c9c2",
   "metadata": {},
   "outputs": [],
   "source": [
    "db.publis.aggregate([{ \"$unwind\" : \"$authors\" },\n",
    "                      {\"$group\": { \"_id\" : \"$authors\", \"total\": { \"$sum\": 1 } } },\n",
    "                      {\"$sort\": {\"total\":1} }\n",
    "                      ])\n"
   ]
  }
 ],
 "metadata": {
  "kernelspec": {
   "display_name": "Python 3 (ipykernel)",
   "language": "python",
   "name": "python3"
  },
  "language_info": {
   "codemirror_mode": {
    "name": "ipython",
    "version": 3
   },
   "file_extension": ".py",
   "mimetype": "text/x-python",
   "name": "python",
   "nbconvert_exporter": "python",
   "pygments_lexer": "ipython3",
   "version": "3.8.2"
  }
 },
 "nbformat": 4,
 "nbformat_minor": 5
}
